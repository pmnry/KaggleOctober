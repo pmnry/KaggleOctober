{
 "cells": [
  {
   "cell_type": "code",
   "execution_count": 1,
   "id": "b801ed56",
   "metadata": {
    "_cell_guid": "b1076dfc-b9ad-4769-8c92-a6c4dae69d19",
    "_uuid": "8f2839f25d086af736a60e9eeb907d3b93b6e0e5",
    "execution": {
     "iopub.execute_input": "2022-10-23T16:56:22.089139Z",
     "iopub.status.busy": "2022-10-23T16:56:22.088631Z",
     "iopub.status.idle": "2022-10-23T16:56:23.258327Z",
     "shell.execute_reply": "2022-10-23T16:56:23.257063Z"
    },
    "papermill": {
     "duration": 1.180541,
     "end_time": "2022-10-23T16:56:23.260987",
     "exception": false,
     "start_time": "2022-10-23T16:56:22.080446",
     "status": "completed"
    },
    "tags": []
   },
   "outputs": [
    {
     "name": "stdout",
     "output_type": "stream",
     "text": [
      "/kaggle/input/tabular-playground-series-oct-2022/sample_submission.csv\n",
      "/kaggle/input/tabular-playground-series-oct-2022/train_9.csv\n",
      "/kaggle/input/tabular-playground-series-oct-2022/train_3.csv\n",
      "/kaggle/input/tabular-playground-series-oct-2022/train_4.csv\n",
      "/kaggle/input/tabular-playground-series-oct-2022/test_dtypes.csv\n",
      "/kaggle/input/tabular-playground-series-oct-2022/train_8.csv\n",
      "/kaggle/input/tabular-playground-series-oct-2022/train_dtypes.csv\n",
      "/kaggle/input/tabular-playground-series-oct-2022/train_5.csv\n",
      "/kaggle/input/tabular-playground-series-oct-2022/train_2.csv\n",
      "/kaggle/input/tabular-playground-series-oct-2022/test.csv\n",
      "/kaggle/input/tabular-playground-series-oct-2022/train_0.csv\n",
      "/kaggle/input/tabular-playground-series-oct-2022/train_7.csv\n",
      "/kaggle/input/tabular-playground-series-oct-2022/train_1.csv\n",
      "/kaggle/input/tabular-playground-series-oct-2022/train_6.csv\n"
     ]
    }
   ],
   "source": [
    "# This Python 3 environment comes with many helpful analytics libraries installed\n",
    "# It is defined by the kaggle/python Docker image: https://github.com/kaggle/docker-python\n",
    "# For example, here's several helpful packages to load\n",
    "\n",
    "import numpy as np # linear algebra\n",
    "import pandas as pd # data processing, CSV file I/O (e.g. pd.read_csv)\n",
    "import matplotlib.pyplot as plt\n",
    "import pandas as pd\n",
    "import seaborn as sns\n",
    "from mpl_toolkits.mplot3d import Axes3D\n",
    "\n",
    "# Input data files are available in the read-only \"../input/\" directory\n",
    "# For example, running this (by clicking run or pressing Shift+Enter) will list all files under the input directory\n",
    "\n",
    "import os\n",
    "for dirname, _, filenames in os.walk('/kaggle/input'):\n",
    "    for filename in filenames:\n",
    "        print(os.path.join(dirname, filename))\n",
    "\n",
    "# You can write up to 20GB to the current directory (/kaggle/working/) that gets preserved as output when you create a version using \"Save & Run All\" \n",
    "# You can also write temporary files to /kaggle/temp/, but they won't be saved outside of the current session"
   ]
  },
  {
   "cell_type": "code",
   "execution_count": 2,
   "id": "e0f8e353",
   "metadata": {
    "execution": {
     "iopub.execute_input": "2022-10-23T16:56:23.274879Z",
     "iopub.status.busy": "2022-10-23T16:56:23.274133Z",
     "iopub.status.idle": "2022-10-23T16:56:56.102272Z",
     "shell.execute_reply": "2022-10-23T16:56:56.101291Z"
    },
    "papermill": {
     "duration": 32.838027,
     "end_time": "2022-10-23T16:56:56.104985",
     "exception": false,
     "start_time": "2022-10-23T16:56:23.266958",
     "status": "completed"
    },
    "tags": []
   },
   "outputs": [],
   "source": [
    "import pandas as pd\n",
    "dtypes_df = pd.read_csv('/kaggle/input/tabular-playground-series-oct-2022/train_dtypes.csv')\n",
    "dtypes = {k: v for (k, v) in zip(dtypes_df.column, dtypes_df.dtype)}\n",
    "train0_df = pd.read_csv('/kaggle/input/tabular-playground-series-oct-2022/train_0.csv', dtype=dtypes)"
   ]
  },
  {
   "cell_type": "code",
   "execution_count": 3,
   "id": "8d31c63e",
   "metadata": {
    "execution": {
     "iopub.execute_input": "2022-10-23T16:56:56.118562Z",
     "iopub.status.busy": "2022-10-23T16:56:56.118171Z",
     "iopub.status.idle": "2022-10-23T16:56:56.142411Z",
     "shell.execute_reply": "2022-10-23T16:56:56.141242Z"
    },
    "papermill": {
     "duration": 0.034177,
     "end_time": "2022-10-23T16:56:56.144796",
     "exception": false,
     "start_time": "2022-10-23T16:56:56.110619",
     "status": "completed"
    },
    "tags": []
   },
   "outputs": [
    {
     "data": {
      "text/plain": [
       "Index(['game_num', 'event_id', 'event_time', 'ball_pos_x', 'ball_pos_y',\n",
       "       'ball_pos_z', 'ball_vel_x', 'ball_vel_y', 'ball_vel_z', 'p0_pos_x',\n",
       "       'p0_pos_y', 'p0_pos_z', 'p0_vel_x', 'p0_vel_y', 'p0_vel_z', 'p0_boost',\n",
       "       'p1_pos_x', 'p1_pos_y', 'p1_pos_z', 'p1_vel_x', 'p1_vel_y', 'p1_vel_z',\n",
       "       'p1_boost', 'p2_pos_x', 'p2_pos_y', 'p2_pos_z', 'p2_vel_x', 'p2_vel_y',\n",
       "       'p2_vel_z', 'p2_boost', 'p3_pos_x', 'p3_pos_y', 'p3_pos_z', 'p3_vel_x',\n",
       "       'p3_vel_y', 'p3_vel_z', 'p3_boost', 'p4_pos_x', 'p4_pos_y', 'p4_pos_z',\n",
       "       'p4_vel_x', 'p4_vel_y', 'p4_vel_z', 'p4_boost', 'p5_pos_x', 'p5_pos_y',\n",
       "       'p5_pos_z', 'p5_vel_x', 'p5_vel_y', 'p5_vel_z', 'p5_boost',\n",
       "       'boost0_timer', 'boost1_timer', 'boost2_timer', 'boost3_timer',\n",
       "       'boost4_timer', 'boost5_timer', 'player_scoring_next',\n",
       "       'team_scoring_next', 'team_A_scoring_within_10sec',\n",
       "       'team_B_scoring_within_10sec'],\n",
       "      dtype='object')"
      ]
     },
     "execution_count": 3,
     "metadata": {},
     "output_type": "execute_result"
    }
   ],
   "source": [
    "train0_df[(train0_df['game_num'] == 1) & (train0_df['event_id'] == 1002)].columns"
   ]
  },
  {
   "cell_type": "markdown",
   "id": "bc406011",
   "metadata": {
    "papermill": {
     "duration": 0.005181,
     "end_time": "2022-10-23T16:56:56.155550",
     "exception": false,
     "start_time": "2022-10-23T16:56:56.150369",
     "status": "completed"
    },
    "tags": []
   },
   "source": [
    "# EDA"
   ]
  },
  {
   "cell_type": "markdown",
   "id": "577c6a72",
   "metadata": {
    "papermill": {
     "duration": 0.005112,
     "end_time": "2022-10-23T16:56:56.166077",
     "exception": false,
     "start_time": "2022-10-23T16:56:56.160965",
     "status": "completed"
    },
    "tags": []
   },
   "source": [
    "## Coordinates"
   ]
  },
  {
   "cell_type": "markdown",
   "id": "e42b8e92",
   "metadata": {
    "papermill": {
     "duration": 0.005527,
     "end_time": "2022-10-23T16:56:56.177031",
     "exception": false,
     "start_time": "2022-10-23T16:56:56.171504",
     "status": "completed"
    },
    "tags": []
   },
   "source": [
    "### Max/min player coordinates"
   ]
  },
  {
   "cell_type": "markdown",
   "id": "63c0b10a",
   "metadata": {
    "papermill": {
     "duration": 0.005185,
     "end_time": "2022-10-23T16:56:56.188011",
     "exception": false,
     "start_time": "2022-10-23T16:56:56.182826",
     "status": "completed"
    },
    "tags": []
   },
   "source": [
    "#### X"
   ]
  },
  {
   "cell_type": "code",
   "execution_count": 4,
   "id": "2f8f41a4",
   "metadata": {
    "execution": {
     "iopub.execute_input": "2022-10-23T16:56:56.202011Z",
     "iopub.status.busy": "2022-10-23T16:56:56.201622Z",
     "iopub.status.idle": "2022-10-23T16:56:56.356246Z",
     "shell.execute_reply": "2022-10-23T16:56:56.354896Z"
    },
    "papermill": {
     "duration": 0.165449,
     "end_time": "2022-10-23T16:56:56.358852",
     "exception": false,
     "start_time": "2022-10-23T16:56:56.193403",
     "status": "completed"
    },
    "tags": []
   },
   "outputs": [
    {
     "name": "stdout",
     "output_type": "stream",
     "text": [
      "Min x value -81.92720031738281\n",
      "Max x value 81.95780181884766\n"
     ]
    }
   ],
   "source": [
    "print('Min x value {}'.format(train0_df[[col for col in train0_df.columns if 'pos_x' in col]].min().min()))\n",
    "print('Max x value {}'.format(train0_df[[col for col in train0_df.columns if 'pos_x' in col]].max().max()))"
   ]
  },
  {
   "cell_type": "markdown",
   "id": "c3bfe649",
   "metadata": {
    "papermill": {
     "duration": 0.00531,
     "end_time": "2022-10-23T16:56:56.369792",
     "exception": false,
     "start_time": "2022-10-23T16:56:56.364482",
     "status": "completed"
    },
    "tags": []
   },
   "source": [
    "#### Y"
   ]
  },
  {
   "cell_type": "code",
   "execution_count": 5,
   "id": "a3c416df",
   "metadata": {
    "execution": {
     "iopub.execute_input": "2022-10-23T16:56:56.382736Z",
     "iopub.status.busy": "2022-10-23T16:56:56.382296Z",
     "iopub.status.idle": "2022-10-23T16:56:56.535922Z",
     "shell.execute_reply": "2022-10-23T16:56:56.534611Z"
    },
    "papermill": {
     "duration": 0.163285,
     "end_time": "2022-10-23T16:56:56.538746",
     "exception": false,
     "start_time": "2022-10-23T16:56:56.375461",
     "status": "completed"
    },
    "tags": []
   },
   "outputs": [
    {
     "name": "stdout",
     "output_type": "stream",
     "text": [
      "Min x value -119.81999969482422\n",
      "Max x value 119.80000305175781\n"
     ]
    }
   ],
   "source": [
    "print('Min x value {}'.format(train0_df[[col for col in train0_df.columns if 'pos_y' in col]].min().min()))\n",
    "print('Max x value {}'.format(train0_df[[col for col in train0_df.columns if 'pos_y' in col]].max().max()))"
   ]
  },
  {
   "cell_type": "markdown",
   "id": "1f7ec68b",
   "metadata": {
    "papermill": {
     "duration": 0.0061,
     "end_time": "2022-10-23T16:56:56.550638",
     "exception": false,
     "start_time": "2022-10-23T16:56:56.544538",
     "status": "completed"
    },
    "tags": []
   },
   "source": [
    "#### Z"
   ]
  },
  {
   "cell_type": "code",
   "execution_count": 6,
   "id": "f23da39d",
   "metadata": {
    "execution": {
     "iopub.execute_input": "2022-10-23T16:56:56.564003Z",
     "iopub.status.busy": "2022-10-23T16:56:56.563626Z",
     "iopub.status.idle": "2022-10-23T16:56:56.716258Z",
     "shell.execute_reply": "2022-10-23T16:56:56.714758Z"
    },
    "papermill": {
     "duration": 0.163001,
     "end_time": "2022-10-23T16:56:56.719538",
     "exception": false,
     "start_time": "2022-10-23T16:56:56.556537",
     "status": "completed"
    },
    "tags": []
   },
   "outputs": [
    {
     "name": "stdout",
     "output_type": "stream",
     "text": [
      "Min x value 0.0031999999191612005\n",
      "Max x value 40.863399505615234\n"
     ]
    }
   ],
   "source": [
    "print('Min x value {}'.format(train0_df[[col for col in train0_df.columns if 'pos_z' in col]].min().min()))\n",
    "print('Max x value {}'.format(train0_df[[col for col in train0_df.columns if 'pos_z' in col]].max().max()))"
   ]
  },
  {
   "cell_type": "markdown",
   "id": "f1a66d74",
   "metadata": {
    "papermill": {
     "duration": 0.005572,
     "end_time": "2022-10-23T16:56:56.731628",
     "exception": false,
     "start_time": "2022-10-23T16:56:56.726056",
     "status": "completed"
    },
    "tags": []
   },
   "source": [
    "### Max/min velocity coordinates"
   ]
  },
  {
   "cell_type": "markdown",
   "id": "8e3ae36b",
   "metadata": {
    "papermill": {
     "duration": 0.00562,
     "end_time": "2022-10-23T16:56:56.743240",
     "exception": false,
     "start_time": "2022-10-23T16:56:56.737620",
     "status": "completed"
    },
    "tags": []
   },
   "source": [
    "#### X"
   ]
  },
  {
   "cell_type": "code",
   "execution_count": 7,
   "id": "91e4a418",
   "metadata": {
    "execution": {
     "iopub.execute_input": "2022-10-23T16:56:56.756463Z",
     "iopub.status.busy": "2022-10-23T16:56:56.756009Z",
     "iopub.status.idle": "2022-10-23T16:56:56.909614Z",
     "shell.execute_reply": "2022-10-23T16:56:56.908149Z"
    },
    "papermill": {
     "duration": 0.16359,
     "end_time": "2022-10-23T16:56:56.912485",
     "exception": false,
     "start_time": "2022-10-23T16:56:56.748895",
     "status": "completed"
    },
    "tags": []
   },
   "outputs": [
    {
     "name": "stdout",
     "output_type": "stream",
     "text": [
      "Min x value -99.20059204101562\n",
      "Max x value 98.38719940185547\n"
     ]
    }
   ],
   "source": [
    "print('Min x value {}'.format(train0_df[[col for col in train0_df.columns if 'vel_x' in col]].min().min()))\n",
    "print('Max x value {}'.format(train0_df[[col for col in train0_df.columns if 'vel_x' in col]].max().max()))"
   ]
  },
  {
   "cell_type": "markdown",
   "id": "d48969d6",
   "metadata": {
    "papermill": {
     "duration": 0.005782,
     "end_time": "2022-10-23T16:56:56.924264",
     "exception": false,
     "start_time": "2022-10-23T16:56:56.918482",
     "status": "completed"
    },
    "tags": []
   },
   "source": [
    "#### Y"
   ]
  },
  {
   "cell_type": "code",
   "execution_count": 8,
   "id": "54a56a76",
   "metadata": {
    "execution": {
     "iopub.execute_input": "2022-10-23T16:56:56.937610Z",
     "iopub.status.busy": "2022-10-23T16:56:56.937200Z",
     "iopub.status.idle": "2022-10-23T16:56:57.088803Z",
     "shell.execute_reply": "2022-10-23T16:56:57.087497Z"
    },
    "papermill": {
     "duration": 0.161605,
     "end_time": "2022-10-23T16:56:57.091677",
     "exception": false,
     "start_time": "2022-10-23T16:56:56.930072",
     "status": "completed"
    },
    "tags": []
   },
   "outputs": [
    {
     "name": "stdout",
     "output_type": "stream",
     "text": [
      "Min x value -87.97200012207031\n",
      "Max x value 101.14419555664062\n"
     ]
    }
   ],
   "source": [
    "print('Min x value {}'.format(train0_df[[col for col in train0_df.columns if 'vel_y' in col]].min().min()))\n",
    "print('Max x value {}'.format(train0_df[[col for col in train0_df.columns if 'vel_y' in col]].max().max()))"
   ]
  },
  {
   "cell_type": "markdown",
   "id": "3f51fa5c",
   "metadata": {
    "papermill": {
     "duration": 0.005796,
     "end_time": "2022-10-23T16:56:57.103651",
     "exception": false,
     "start_time": "2022-10-23T16:56:57.097855",
     "status": "completed"
    },
    "tags": []
   },
   "source": [
    "#### Z"
   ]
  },
  {
   "cell_type": "code",
   "execution_count": 9,
   "id": "ba67c92e",
   "metadata": {
    "execution": {
     "iopub.execute_input": "2022-10-23T16:56:57.117645Z",
     "iopub.status.busy": "2022-10-23T16:56:57.117239Z",
     "iopub.status.idle": "2022-10-23T16:56:57.269882Z",
     "shell.execute_reply": "2022-10-23T16:56:57.268170Z"
    },
    "papermill": {
     "duration": 0.162666,
     "end_time": "2022-10-23T16:56:57.272486",
     "exception": false,
     "start_time": "2022-10-23T16:56:57.109820",
     "status": "completed"
    },
    "tags": []
   },
   "outputs": [
    {
     "name": "stdout",
     "output_type": "stream",
     "text": [
      "Min x value -62.99299621582031\n",
      "Max x value 67.94279479980469\n"
     ]
    }
   ],
   "source": [
    "print('Min x value {}'.format(train0_df[[col for col in train0_df.columns if 'vel_z' in col]].min().min()))\n",
    "print('Max x value {}'.format(train0_df[[col for col in train0_df.columns if 'vel_z' in col]].max().max()))"
   ]
  },
  {
   "cell_type": "markdown",
   "id": "dc9591d5",
   "metadata": {
    "papermill": {
     "duration": 0.005903,
     "end_time": "2022-10-23T16:56:57.284742",
     "exception": false,
     "start_time": "2022-10-23T16:56:57.278839",
     "status": "completed"
    },
    "tags": []
   },
   "source": [
    "### Display a game situation"
   ]
  },
  {
   "cell_type": "markdown",
   "id": "bcbc22bc",
   "metadata": {
    "papermill": {
     "duration": 0.00593,
     "end_time": "2022-10-23T16:56:57.296843",
     "exception": false,
     "start_time": "2022-10-23T16:56:57.290913",
     "status": "completed"
    },
    "tags": []
   },
   "source": [
    "Let's approach this step by step. Ideally we would like to see the following elements:\n",
    "- each player's represented in space with a different color for each team and a specific marker for players\n",
    "- each player's velocity vector (arrow type?)\n",
    "- the ball with it's specific marker\n",
    "\n",
    "I first write a *player_scatter* method to display a given player's coordinates at one index of a given game event. We can then use that method in a loop to display each player in the 3D plot. The ball is simple to add as another element. I am still missing the velocity vectors.\n",
    "\n",
    "As I think of displaying the velocity vectors, I realize that we would also need to figure out the coordinates of the goal posts of each team.\n"
   ]
  },
  {
   "cell_type": "code",
   "execution_count": 10,
   "id": "b9fcfa6d",
   "metadata": {
    "execution": {
     "iopub.execute_input": "2022-10-23T16:56:57.311047Z",
     "iopub.status.busy": "2022-10-23T16:56:57.310419Z",
     "iopub.status.idle": "2022-10-23T16:56:57.709396Z",
     "shell.execute_reply": "2022-10-23T16:56:57.708076Z"
    },
    "papermill": {
     "duration": 0.409672,
     "end_time": "2022-10-23T16:56:57.712661",
     "exception": false,
     "start_time": "2022-10-23T16:56:57.302989",
     "status": "completed"
    },
    "tags": []
   },
   "outputs": [
    {
     "data": {
      "image/png": "[encoded data removed]",
      "text/plain": [
       "<Figure size 1152x720 with 1 Axes>"
      ]
     },
     "metadata": {},
     "output_type": "display_data"
    }
   ],
   "source": [
    "player_position_coordinates = ['p0_pos_x','p0_pos_y', 'p0_pos_z', 'p1_pos_x', 'p1_pos_y', 'p1_pos_z', 'p2_pos_x', 'p2_pos_y', 'p2_pos_z', 'p3_pos_x', 'p3_pos_y', 'p3_pos_z', 'p4_pos_x', 'p4_pos_y', 'p4_pos_z','p5_pos_x', 'p5_pos_y','p5_pos_z']\n",
    "vel = [col for col in train0_df.columns if '_vel_' in col]\n",
    "ball_coordinates = ['ball_pos_x','ball_pos_y','ball_pos_z']\n",
    "\n",
    "# isolate data on one event and one player for now\n",
    "event = 2002\n",
    "game_num = 2\n",
    "idx = -2\n",
    "data = train0_df[(train0_df['game_num'] == game_num) & (train0_df['event_id'] == event)][player_position_coordinates + ball_coordinates + vel].reset_index(drop=True)\n",
    "\n",
    "# Position of player 0\n",
    "sns.set(style = \"darkgrid\")\n",
    "\n",
    "fig = plt.figure(figsize=(16,10))\n",
    "ax = fig.add_subplot(111, projection = '3d')\n",
    "\n",
    "\n",
    "def player_scatter(ax, data, player_num, idx):\n",
    "    if player_num > 2:\n",
    "        c = 'red'\n",
    "    else:\n",
    "        c = 'blue'\n",
    "    \n",
    "    coord = data.iloc[idx][['p' + str(player_num) + '_pos_' + k for k in ['x','y','z']]]\n",
    "    vec = data.iloc[idx][['p' + str(player_num) + '_vel_' + k for k in ['x','y','z']]]\n",
    "    \n",
    "    ax.set_xlim3d(-82.0,82.0)\n",
    "    ax.set_ylim3d(-120.0,120.0)\n",
    "    ax.set_zlim3d(0.0,120.0)\n",
    "\n",
    "    ax.set_xlabel(\"X\")\n",
    "    ax.set_ylabel(\"Y\")\n",
    "    ax.set_zlabel(\"Z\")\n",
    "\n",
    "    ax.plot([coord.iloc[0],vec.iloc[0]],[coord.iloc[1],vec.iloc[1]],[coord.iloc[2],vec.iloc[2]],color = 'g')\n",
    "    ax.scatter(coord.iloc[0],coord.iloc[1],coord.iloc[2], s=40, c=c, marker=(5,1))\n",
    "    ax.scatter(vec.iloc[0],vec.iloc[1],vec.iloc[2], color = 'g', marker = \"^\")\n",
    "    return 0\n",
    "\n",
    "for i in range(6):\n",
    "    player_scatter(ax, data, i, idx)\n",
    "    \n",
    "ax.scatter(data.iloc[idx]['ball_pos_x'], data.iloc[idx]['ball_pos_y'], data.iloc[idx]['ball_pos_z'], s=80, c='green')\n",
    "\n",
    "plt.show()"
   ]
  },
  {
   "cell_type": "markdown",
   "id": "4aa15185",
   "metadata": {
    "papermill": {
     "duration": 0.007009,
     "end_time": "2022-10-23T16:56:57.727059",
     "exception": false,
     "start_time": "2022-10-23T16:56:57.720050",
     "status": "completed"
    },
    "tags": []
   },
   "source": [
    "## Win conditions"
   ]
  },
  {
   "cell_type": "code",
   "execution_count": null,
   "id": "4ae62826",
   "metadata": {
    "papermill": {
     "duration": 0.007742,
     "end_time": "2022-10-23T16:56:57.742161",
     "exception": false,
     "start_time": "2022-10-23T16:56:57.734419",
     "status": "completed"
    },
    "tags": []
   },
   "outputs": [],
   "source": []
  }
 ],
 "metadata": {
  "kernelspec": {
   "display_name": "Python 3",
   "language": "python",
   "name": "python3"
  },
  "language_info": {
   "codemirror_mode": {
    "name": "ipython",
    "version": 3
   },
   "file_extension": ".py",
   "mimetype": "text/x-python",
   "name": "python",
   "nbconvert_exporter": "python",
   "pygments_lexer": "ipython3",
   "version": "3.7.12"
  },
  "papermill": {
   "default_parameters": {},
   "duration": 45.263255,
   "end_time": "2022-10-23T16:56:58.572331",
   "environment_variables": {},
   "exception": null,
   "input_path": "__notebook__.ipynb",
   "output_path": "__notebook__.ipynb",
   "parameters": {},
   "start_time": "2022-10-23T16:56:13.309076",
   "version": "2.3.4"
  }
 },
 "nbformat": 4,
 "nbformat_minor": 5
}
